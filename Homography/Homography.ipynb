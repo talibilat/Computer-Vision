{
  "cells": [
    {
      "cell_type": "markdown",
      "source": [
        "# Mounting the Drive"
      ],
      "metadata": {
        "id": "cMavH8CzU7PU"
      }
    },
    {
      "cell_type": "code",
      "execution_count": 119,
      "metadata": {
        "colab": {
          "base_uri": "https://localhost:8080/"
        },
        "id": "e6FvyH5D15MZ",
        "outputId": "e0ad4982-05d4-45d2-df8f-0a53d2a60899"
      },
      "outputs": [
        {
          "output_type": "stream",
          "name": "stdout",
          "text": [
            "Drive already mounted at /content/drive; to attempt to forcibly remount, call drive.mount(\"/content/drive\", force_remount=True).\n"
          ]
        }
      ],
      "source": [
        "from google.colab import drive\n",
        "\n",
        "# Mount Google Drive\n",
        "drive.mount('/content/drive')"
      ]
    },
    {
      "cell_type": "markdown",
      "source": [
        "# Importing important Libraries"
      ],
      "metadata": {
        "id": "LKr4MXS5VB1C"
      }
    },
    {
      "cell_type": "code",
      "execution_count": 120,
      "metadata": {
        "id": "KX847LSg1Vw4"
      },
      "outputs": [],
      "source": [
        "import random\n",
        "import numpy as np\n",
        "import torch.nn as nn\n",
        "import torch.nn.functional as F\n",
        "from torchsummary import summary\n",
        "import torch.optim as optim\n",
        "import torch\n",
        "device = torch.device(\"cuda\" if torch.cuda.is_available() else \"cpu\") \n",
        "from torch.utils.data import DataLoader"
      ]
    },
    {
      "cell_type": "markdown",
      "source": [
        "# Loading the data and crearing batches"
      ],
      "metadata": {
        "id": "xMHuI1riVIqb"
      }
    },
    {
      "cell_type": "code",
      "execution_count": 135,
      "metadata": {
        "colab": {
          "base_uri": "https://localhost:8080/"
        },
        "id": "pAxXVfQGK17k",
        "outputId": "2160d4c0-ab78-4b64-f0a3-a6599edfbc9a"
      },
      "outputs": [
        {
          "output_type": "stream",
          "name": "stdout",
          "text": [
            "First Batch of Train Set:\n",
            "Images shape: torch.Size([64, 2, 128, 128])\n",
            "Labels shape: torch.Size([64, 8])\n",
            "Total Length of Train Set: 1849\n"
          ]
        }
      ],
      "source": [
        "import numpy as np\n",
        "import h5py\n",
        "from torch.utils.data import Dataset, DataLoader\n",
        "\n",
        "class CocoDataset(Dataset):\n",
        "    def __init__(self, file_path):\n",
        "        self.h5_file = h5py.File(file_path, 'r')\n",
        "        self.dataset_length = len(self.h5_file['/'])\n",
        "\n",
        "    def __getitem__(self, index):\n",
        "        data = self.h5_file[str(index)]\n",
        "        image = np.array(data)  # image.shape = (2, 128, 128)\n",
        "        label = data.attrs.get('label').flatten()  # label.shape = (8,)\n",
        "        return image, label\n",
        "\n",
        "    def __len__(self):\n",
        "        return self.dataset_length\n",
        "\n",
        "# Example usage with DataLoader\n",
        "train_path = '/content/drive/MyDrive/Deep Learning Homography/train.h5'\n",
        "dataset = CocoDataset(train_path)\n",
        "dataloader = DataLoader(dataset, batch_size=64, shuffle=True)\n",
        "\n",
        "\n",
        "# Print the shapes of the first batch of Train Set\n",
        "train_batch_images, train_batch_labels = next(iter(dataloader))\n",
        "print(\"First Batch of Train Set:\")\n",
        "print(\"Images shape:\", train_batch_images.shape)\n",
        "print(\"Labels shape:\", train_batch_labels.shape)\n",
        "print(\"Total Length of Train Set:\", len(dataloader))"
      ]
    },
    {
      "cell_type": "markdown",
      "source": [
        "# Designing Model's Architecture"
      ],
      "metadata": {
        "id": "5-pXtylpVgrb"
      }
    },
    {
      "cell_type": "code",
      "execution_count": 136,
      "metadata": {
        "id": "GcfO6LljDItt"
      },
      "outputs": [],
      "source": [
        "class Model(nn.Module):\n",
        "\n",
        "    def __init__(self):\n",
        "        super(Model, self).__init__()\n",
        "\n",
        "        # Define the layers of the model\n",
        "        self.layer1 = nn.Sequential(\n",
        "            nn.Conv2d(2, 64, 3, padding=1),  # Convolutional layer with 2 input channels, 64 output channels, and 3x3 kernel\n",
        "            nn.BatchNorm2d(64, eps= 5e-3),  # Batch normalization to normalize the output of the previous layer\n",
        "            nn.LeakyReLU(negative_slope=0.2)  # ReLU activation function to introduce non-linearity\n",
        "        )\n",
        "        \n",
        "        self.layer2 = nn.Sequential(\n",
        "            nn.Conv2d(64, 64, 3, padding=1),  # Convolutional layer with 64 input channels, 64 output channels, and 3x3 kernel\n",
        "            nn.BatchNorm2d(64, eps= 5e-3),\n",
        "            nn.LeakyReLU(negative_slope=0.2),\n",
        "            nn.MaxPool2d(2)  # Max pooling layer with a kernel size of 2x2 to downsample the input\n",
        "        )\n",
        "        \n",
        "        # Repeat the pattern for layer 3 to 8\n",
        "        self.layer3 = nn.Sequential(\n",
        "            nn.Conv2d(64, 64, 3, padding=1),\n",
        "            nn.BatchNorm2d(64, eps= 5e-3),\n",
        "            nn.LeakyReLU(negative_slope=0.2)\n",
        "        )\n",
        "        \n",
        "        self.layer4 = nn.Sequential(\n",
        "            nn.Conv2d(64, 64, 3, padding=1),\n",
        "            nn.BatchNorm2d(64, eps= 5e-3),\n",
        "            nn.LeakyReLU(negative_slope=0.2),\n",
        "            nn.MaxPool2d(2)\n",
        "        )\n",
        "        \n",
        "        self.layer5 = nn.Sequential(\n",
        "            nn.Conv2d(64, 128, 3, padding=1),\n",
        "            nn.BatchNorm2d(128, eps= 5e-3),\n",
        "            nn.LeakyReLU(negative_slope=0.2)\n",
        "        )\n",
        "        \n",
        "        self.layer6 = nn.Sequential(\n",
        "            nn.Conv2d(128, 128, 3, padding=1),\n",
        "            nn.BatchNorm2d(128, eps= 5e-3),\n",
        "            nn.LeakyReLU(negative_slope=0.2),\n",
        "            nn.MaxPool2d(2)\n",
        "        )\n",
        "        \n",
        "        self.layer7 = nn.Sequential(\n",
        "            nn.Conv2d(128, 128, 3, padding=1),\n",
        "            nn.BatchNorm2d(128, eps= 5e-3),\n",
        "            nn.LeakyReLU(negative_slope=0.2)\n",
        "        )\n",
        "        \n",
        "        self.layer8 = nn.Sequential(\n",
        "            nn.Conv2d(128, 128, 3, padding=1),\n",
        "            nn.BatchNorm2d(128, eps= 5e-3),\n",
        "            nn.LeakyReLU(negative_slope=0.2)\n",
        "        )\n",
        "\n",
        "        # Fully connected layer with 128x16x16 input features and 1024 output features\n",
        "        self.fc1 = nn.Linear(128 * 16 * 16, 1024)  \n",
        "        \n",
        "        \n",
        "        # Fully connected layer with 1024 input features and 8 output features\n",
        "        self.fc2 = nn.Linear(1024, 8)  \n",
        "\n",
        "\n",
        "\n",
        "    def forward(self, x):\n",
        "        out = self.layer1(x)  # Pass the input through layer 1\n",
        "        out = self.layer2(out)  # Pass the output of layer 1 through layer 2\n",
        "        out = self.layer3(out)  # Repeat the process for layers 3 to 8\n",
        "        out = self.layer4(out)\n",
        "        out = self.layer5(out)\n",
        "        out = self.layer6(out)\n",
        "        out = self.layer7(out)\n",
        "        out = self.layer8(out)\n",
        "        out = out.view(-1, 128 * 16 * 16)  # Reshape the output tensor to a 1D tensor\n",
        "        out = self.fc1(out)  # Pass the reshaped tensor through the first fully connected layer\n",
        "        out = self.fc2(out)  # Pass the output of the first fully connected layer through the second fully connected layer\n",
        "        return out\n",
        "\n",
        "\n"
      ]
    },
    {
      "cell_type": "markdown",
      "source": [
        "# Creating Model Instance and choosing optimizer and Loss"
      ],
      "metadata": {
        "id": "UvaoDssxVlol"
      }
    },
    {
      "cell_type": "code",
      "execution_count": 138,
      "metadata": {
        "colab": {
          "base_uri": "https://localhost:8080/"
        },
        "id": "yNfyNXS9PU94",
        "outputId": "bbfff431-838c-4bd3-877f-d25d7be0f73a"
      },
      "outputs": [
        {
          "output_type": "stream",
          "name": "stdout",
          "text": [
            "----------------------------------------------------------------\n",
            "        Layer (type)               Output Shape         Param #\n",
            "================================================================\n",
            "            Conv2d-1         [-1, 64, 128, 128]           1,216\n",
            "       BatchNorm2d-2         [-1, 64, 128, 128]             128\n",
            "         LeakyReLU-3         [-1, 64, 128, 128]               0\n",
            "            Conv2d-4         [-1, 64, 128, 128]          36,928\n",
            "       BatchNorm2d-5         [-1, 64, 128, 128]             128\n",
            "         LeakyReLU-6         [-1, 64, 128, 128]               0\n",
            "         MaxPool2d-7           [-1, 64, 64, 64]               0\n",
            "            Conv2d-8           [-1, 64, 64, 64]          36,928\n",
            "       BatchNorm2d-9           [-1, 64, 64, 64]             128\n",
            "        LeakyReLU-10           [-1, 64, 64, 64]               0\n",
            "           Conv2d-11           [-1, 64, 64, 64]          36,928\n",
            "      BatchNorm2d-12           [-1, 64, 64, 64]             128\n",
            "        LeakyReLU-13           [-1, 64, 64, 64]               0\n",
            "        MaxPool2d-14           [-1, 64, 32, 32]               0\n",
            "           Conv2d-15          [-1, 128, 32, 32]          73,856\n",
            "      BatchNorm2d-16          [-1, 128, 32, 32]             256\n",
            "        LeakyReLU-17          [-1, 128, 32, 32]               0\n",
            "           Conv2d-18          [-1, 128, 32, 32]         147,584\n",
            "      BatchNorm2d-19          [-1, 128, 32, 32]             256\n",
            "        LeakyReLU-20          [-1, 128, 32, 32]               0\n",
            "        MaxPool2d-21          [-1, 128, 16, 16]               0\n",
            "           Conv2d-22          [-1, 128, 16, 16]         147,584\n",
            "      BatchNorm2d-23          [-1, 128, 16, 16]             256\n",
            "        LeakyReLU-24          [-1, 128, 16, 16]               0\n",
            "           Conv2d-25          [-1, 128, 16, 16]         147,584\n",
            "      BatchNorm2d-26          [-1, 128, 16, 16]             256\n",
            "        LeakyReLU-27          [-1, 128, 16, 16]               0\n",
            "           Linear-28                 [-1, 1024]      33,555,456\n",
            "           Linear-29                    [-1, 8]           8,200\n",
            "================================================================\n",
            "Total params: 34,193,800\n",
            "Trainable params: 34,193,800\n",
            "Non-trainable params: 0\n",
            "----------------------------------------------------------------\n",
            "Input size (MB): 0.12\n",
            "Forward/backward pass size (MB): 70.26\n",
            "Params size (MB): 130.44\n",
            "Estimated Total Size (MB): 200.82\n",
            "----------------------------------------------------------------\n"
          ]
        }
      ],
      "source": [
        "# Define the loss criterion\n",
        "criterion = nn.SmoothL1Loss()\n",
        "\n",
        "# Set the number of epochs\n",
        "epochs = 10\n",
        "\n",
        "# Create an instance of the model and move it to the appropriate device\n",
        "model = Model().to(device)\n",
        "\n",
        "# Define Optimizer\n",
        "optimizer = optim.Adam(model.parameters())\n",
        "\n",
        "# Print the model summary\n",
        "summary(model, input_size=(2, 128, 128))"
      ]
    },
    {
      "cell_type": "markdown",
      "source": [
        "# Training the model and calculation Loss"
      ],
      "metadata": {
        "id": "eJGNvrYZVyDG"
      }
    },
    {
      "cell_type": "code",
      "execution_count": 140,
      "metadata": {
        "colab": {
          "base_uri": "https://localhost:8080/"
        },
        "id": "IQ8-otw8WOAP",
        "outputId": "19df328e-c1ea-4223-9c03-12deac6137c4"
      },
      "outputs": [
        {
          "output_type": "stream",
          "name": "stderr",
          "text": [
            "Epoch 1/10:   1%|          | 17/1849 [00:07<13:23,  2.28batch/s, Loss=14.7]\n",
            "Epoch 1/10: 100%|██████████| 1849/1849 [08:11<00:00,  3.76batch/s, Loss=9.46]\n",
            "Epoch 2/10: 100%|██████████| 1849/1849 [08:08<00:00,  3.78batch/s, Loss=7.1]\n",
            "Epoch 3/10: 100%|██████████| 1849/1849 [08:09<00:00,  3.78batch/s, Loss=7.75]\n",
            "Epoch 4/10: 100%|██████████| 1849/1849 [08:09<00:00,  3.78batch/s, Loss=5.89]\n",
            "Epoch 5/10: 100%|██████████| 1849/1849 [08:09<00:00,  3.77batch/s, Loss=6.04]\n",
            "Epoch 6/10: 100%|██████████| 1849/1849 [08:07<00:00,  3.79batch/s, Loss=5.63]\n",
            "Epoch 7/10: 100%|██████████| 1849/1849 [08:07<00:00,  3.79batch/s, Loss=6.27]\n",
            "Epoch 8/10: 100%|██████████| 1849/1849 [08:11<00:00,  3.76batch/s, Loss=7.17]\n",
            "Epoch 9/10: 100%|██████████| 1849/1849 [08:16<00:00,  3.73batch/s, Loss=5.31]\n",
            "Epoch 10/10: 100%|██████████| 1849/1849 [08:10<00:00,  3.77batch/s, Loss=4.91]\n"
          ]
        }
      ],
      "source": [
        "from tqdm import tqdm\n",
        "\n",
        "optimizer = optim.Adam(model.parameters())\n",
        "\n",
        "# Training loop for each epoch\n",
        "for epoch in range(epochs):\n",
        "\n",
        "    progress_bar = tqdm(total=len(dataloader), desc=f'Epoch {epoch+1}/{epochs}', unit='batch')\n",
        "\n",
        "    # Iterate over the training dataloader\n",
        "    for i, (images, target) in enumerate(dataloader):\n",
        "\n",
        "        images = images.to(device)\n",
        "        target = target.to(device)\n",
        "\n",
        "        # Convert images and target to float type\n",
        "        images = images.float()\n",
        "        # print(images.shape)\n",
        "        target = target.float()\n",
        "        \n",
        "        # Pass the images through the model\n",
        "        outputs = model(images)\n",
        "        \n",
        "        # Check if any output value is NaN\n",
        "        if torch.any(torch.isnan(outputs)):\n",
        "            print(f\"Values become NaN in Epoch Number: {epoch} and Batch number: {i} \")\n",
        "            print(outputs)\n",
        "            break\n",
        "        \n",
        "        # Zero the gradients of the optimizer\n",
        "        optimizer.zero_grad()\n",
        "        \n",
        "\n",
        "        # Calculate the loss between the outputs and target\n",
        "        loss = criterion(outputs, target.view(-1, 8))\n",
        "\n",
        "        \n",
        "        # Perform backpropagation to compute gradients\n",
        "        loss.backward()\n",
        "\n",
        "        # Update the model parameters using the gradients\n",
        "        optimizer.step()\n",
        "\n",
        "        # Update the progress bar\n",
        "        progress_bar.set_postfix({'Loss': loss.item()})\n",
        "        progress_bar.update()\n",
        "        \n",
        "    # Print the progress and loss at regular intervals\n",
        "    # Close the progress bar after completing one epoch\n",
        "    progress_bar.close()\n",
        "    \n",
        "\n",
        "# Save the model's state, epoch, and optimizer parameters\n",
        "state = {'epoch': epochs, 'state_dict': model.state_dict(), 'optimizer': optimizer.state_dict()}\n",
        "torch.save(state, 'DeepHomographyEstimation.pth')\n"
      ]
    },
    {
      "cell_type": "markdown",
      "source": [
        "# Plotting the Loss"
      ],
      "metadata": {
        "id": "bko7UB0cV3lc"
      }
    },
    {
      "cell_type": "code",
      "source": [
        "import matplotlib.pyplot as plt\n",
        "\n",
        "loss_values = [14.7, 9.46, 7.1, 7.75, 5.89, 6.04, 5.63, 6.27, 7.17, 5.31, 4.91]\n",
        "epochs = range(1, len(loss_values) + 1)\n",
        "\n",
        "plt.plot(epochs, loss_values, marker='o')\n",
        "plt.title('Loss Value over Training Epochs')\n",
        "plt.xlabel('Epoch')\n",
        "plt.ylabel('Loss')\n",
        "plt.grid(True)\n",
        "plt.show()\n"
      ],
      "metadata": {
        "colab": {
          "base_uri": "https://localhost:8080/",
          "height": 472
        },
        "id": "BXUUzmhlQQeF",
        "outputId": "437cc0ef-470d-49a9-988e-d383460011eb"
      },
      "execution_count": 142,
      "outputs": [
        {
          "output_type": "display_data",
          "data": {
            "text/plain": [
              "<Figure size 640x480 with 1 Axes>"
            ],
            "image/png": "[encoded data removed]"
          },
          "metadata": {}
        }
      ]
    },
    {
      "cell_type": "markdown",
      "source": [
        "# Testing the model"
      ],
      "metadata": {
        "id": "IRpRVckPV-cy"
      }
    },
    {
      "cell_type": "code",
      "execution_count": 141,
      "metadata": {
        "id": "Jrnqy4A8zPWz",
        "colab": {
          "base_uri": "https://localhost:8080/"
        },
        "outputId": "a90a1783-a948-47b6-a159-26fc65cbe116"
      },
      "outputs": [
        {
          "output_type": "stream",
          "name": "stdout",
          "text": [
            "First Batch of Test Set:\n",
            "Images shape: torch.Size([64, 2, 128, 128])\n",
            "Labels shape: torch.Size([64, 8])\n",
            "Total Length of Test Set: 79\n",
            "\n",
            "Loss: 8.281489\n"
          ]
        }
      ],
      "source": [
        "from numpy.lib.function_base import average\n",
        "import torch\n",
        "\n",
        "# Example usage with DataLoader\n",
        "test_path = '/content/drive/MyDrive/Deep Learning Homography/test.h5'\n",
        "dataset = CocoDataset(test_path)\n",
        "test_dataloader = DataLoader(dataset, batch_size=64, shuffle=True)\n",
        "\n",
        "# Print the shapes of the first batch of Test Set\n",
        "test_batch_images, test_batch_labels = next(iter(test_dataloader))\n",
        "print(\"First Batch of Test Set:\")\n",
        "print(\"Images shape:\", test_batch_images.shape)\n",
        "print(\"Labels shape:\", test_batch_labels.shape)\n",
        "print(\"Total Length of Test Set:\", len(test_dataloader))\n",
        "\n",
        "# Set the model to evaluation mode\n",
        "model.eval()\n",
        "\n",
        "Test_Loss = []\n",
        "with torch.no_grad():\n",
        "    for i, (images, target) in enumerate(test_dataloader):\n",
        "        images = images.to(device)\n",
        "        target = target.to(device)\n",
        "        images = images.float()\n",
        "        target = target.float()\n",
        "        outputs = model(images)\n",
        "        \n",
        "        # Custom loss function calculation\n",
        "        y_pred = outputs\n",
        "        y = target\n",
        "        \n",
        "        diff = y.subtract(y_pred)  # (B, 8) error per corner dimension\n",
        "        diff = diff.pow(2)  # (B, 8) squared error per corner dimension\n",
        "        diff = diff.reshape((-1, 4, 2))  # (B, 4, 2) squared error by corner\n",
        "        diff = diff.sum(-1)  # (B, 4) sum the squared error per corner\n",
        "        diff = diff.sqrt()  # (B, 4) L2 distance per corner\n",
        "        diff = diff.mean(-1)  # (B,) mean of L2 distance per sample\n",
        "        mace = diff.mean(-1)  # (1,) mean over all of the test dataset\n",
        "        \n",
        "        Test_Loss.append(mace)\n",
        "    \n",
        "    # Print the average loss of the Test Set\n",
        "    print('\\nLoss: {:.6f}'.format(sum(Test_Loss) / len(Test_Loss)))\n"
      ]
    }
  ],
  "metadata": {
    "accelerator": "GPU",
    "colab": {
      "provenance": []
    },
    "kernelspec": {
      "display_name": "Python 3",
      "name": "python3"
    },
    "language_info": {
      "name": "python"
    }
  },
  "nbformat": 4,
  "nbformat_minor": 0
}